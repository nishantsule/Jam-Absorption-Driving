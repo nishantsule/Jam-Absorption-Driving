{
 "cells": [
  {
   "cell_type": "code",
   "execution_count": null,
   "metadata": {},
   "outputs": [],
   "source": [
    "import numpy as np\n",
    "import time\n",
    "from bokeh.io import push_notebook, show, output_notebook\n",
    "from bokeh.models import HoverTool\n",
    "from bokeh.plotting import figure \n",
    "output_notebook()"
   ]
  },
  {
   "cell_type": "code",
   "execution_count": null,
   "metadata": {},
   "outputs": [],
   "source": [
    "# Initialize\n",
    "processval = 0.0\n",
    "controlvar = 0.0\n",
    "setpoint = 0.0\n",
    "kp = 1.5\n",
    "ki = 0.1\n",
    "kd = 0.001\n",
    "error = 0.0\n",
    "prop_term = 0.0\n",
    "inte_term = 0.0\n",
    "deri_term = 0.0\n",
    "lasterr = 0.0\n",
    "samplingtime = 0.005  # seconds\n",
    "currenttime = time.time()\n",
    "lasttime = currenttime\n",
    "winduplim = 20.0\n",
    "maxsetpoint = 10.0\n",
    "\n",
    "# Setup plots\n",
    "timesteps = 60\n",
    "timepoints = []\n",
    "outputs = []\n",
    "setpoints = []\n",
    "errors = []\n",
    "x = [timepoints, timepoints]\n",
    "y = [outputs, setpoints]\n",
    "        \n",
    "for nn in range(timesteps):\n",
    "    if setpoint > 0:\n",
    "        processval = processval + (controlvar - (1.0 / nn))\n",
    "\n",
    "#             if nn < 10:\n",
    "#                 setpoint = maxsetpoint * nn / 10\n",
    "#             else:\n",
    "#                 setpoint = maxsetpoint\n",
    "#             if nn < 10:\n",
    "#                 setpoint = 2.0 * maxsetpoint * nn / 10\n",
    "#             elif (nn >= 10) and (nn < 20):\n",
    "#                 setpoint = 2.0 * maxsetpoint - maxsetpoint * (nn - 10) / 10\n",
    "#             else:\n",
    "#                 setpoint = maxsetpoint\n",
    "    if nn > 10:\n",
    "        setpoint = maxsetpoint\n",
    "#             setpoint = maxsetpoint * np.sin(4 * np.pi * nn / timesteps)\n",
    "\n",
    "    outputs.append(processval)\n",
    "    timepoints.append(nn * samplingtime)\n",
    "    setpoints.append(setpoint)\n",
    "    errors.append(error)\n",
    "\n",
    "\n",
    "\n",
    "    time.sleep(samplingtime)\n",
    "    update()\n",
    "\n",
    "    def update():\n",
    "        # Generate output using PID control algorithm\n",
    "        error = setpoint - processval\n",
    "        currenttime = time.time()\n",
    "        dt = currenttime - lasttime\n",
    "        if dt > samplingtime:\n",
    "            prop_term = kp * error\n",
    "            inte_term = inte_term + ki * error * dt\n",
    "            if inte_term < -winduplim:\n",
    "                inte_term = -winduplim\n",
    "            elif inte_term > winduplim:\n",
    "                inte_term = winduplim\n",
    "            deri_term = kd * (.error - .lasterr) / dt\n",
    "            controlvar = prop_term + .inte_term + .deri_term\n",
    "            lasterr = error\n",
    "            lasttime = currenttime"
   ]
  },
  {
   "cell_type": "code",
   "execution_count": null,
   "metadata": {},
   "outputs": [],
   "source": [
    "pid = PIDcontrol(1.5, 0.1, 0.005)\n",
    "pid.main()"
   ]
  }
 ],
 "metadata": {
  "kernelspec": {
   "display_name": "Python 3",
   "language": "python",
   "name": "python3"
  },
  "language_info": {
   "codemirror_mode": {
    "name": "ipython",
    "version": 3
   },
   "file_extension": ".py",
   "mimetype": "text/x-python",
   "name": "python",
   "nbconvert_exporter": "python",
   "pygments_lexer": "ipython3",
   "version": "3.6.2"
  }
 },
 "nbformat": 4,
 "nbformat_minor": 2
}
